{
 "cells": [
  {
   "cell_type": "code",
   "execution_count": 1,
   "id": "deab8987-c9c5-4281-9521-a57516e68d7e",
   "metadata": {},
   "outputs": [
    {
     "name": "stdout",
     "output_type": "stream",
     "text": [
      "Collecting boto3\n",
      "  Obtaining dependency information for boto3 from https://files.pythonhosted.org/packages/70/a9/96627b82b883f6b9f6a5dcbcc1571d57bd5696f69846f2df78a42b46f18f/boto3-1.34.115-py3-none-any.whl.metadata\n",
      "  Downloading boto3-1.34.115-py3-none-any.whl.metadata (6.6 kB)\n",
      "Collecting botocore<1.35.0,>=1.34.115 (from boto3)\n",
      "  Obtaining dependency information for botocore<1.35.0,>=1.34.115 from https://files.pythonhosted.org/packages/2e/6d/1c4302be80ae8c9f772173d4734f956dbcd7625bb628406d8aed8705c6c3/botocore-1.34.115-py3-none-any.whl.metadata\n",
      "  Downloading botocore-1.34.115-py3-none-any.whl.metadata (5.7 kB)\n",
      "Collecting jmespath<2.0.0,>=0.7.1 (from boto3)\n",
      "  Obtaining dependency information for jmespath<2.0.0,>=0.7.1 from https://files.pythonhosted.org/packages/31/b4/b9b800c45527aadd64d5b442f9b932b00648617eb5d63d2c7a6587b7cafc/jmespath-1.0.1-py3-none-any.whl.metadata\n",
      "  Downloading jmespath-1.0.1-py3-none-any.whl.metadata (7.6 kB)\n",
      "Collecting s3transfer<0.11.0,>=0.10.0 (from boto3)\n",
      "  Obtaining dependency information for s3transfer<0.11.0,>=0.10.0 from https://files.pythonhosted.org/packages/83/37/395cdb6ee92925fa211e55d8f07b9f93cf93f60d7d4ce5e66fd73f1ea986/s3transfer-0.10.1-py3-none-any.whl.metadata\n",
      "  Downloading s3transfer-0.10.1-py3-none-any.whl.metadata (1.7 kB)\n",
      "Requirement already satisfied: python-dateutil<3.0.0,>=2.1 in c:\\users\\gvgan\\appdata\\local\\programs\\python\\python312\\lib\\site-packages (from botocore<1.35.0,>=1.34.115->boto3) (2.8.2)\n",
      "Requirement already satisfied: urllib3!=2.2.0,<3,>=1.25.4 in c:\\users\\gvgan\\appdata\\local\\programs\\python\\python312\\lib\\site-packages (from botocore<1.35.0,>=1.34.115->boto3) (2.1.0)\n",
      "Requirement already satisfied: six>=1.5 in c:\\users\\gvgan\\appdata\\local\\programs\\python\\python312\\lib\\site-packages (from python-dateutil<3.0.0,>=2.1->botocore<1.35.0,>=1.34.115->boto3) (1.16.0)\n",
      "Downloading boto3-1.34.115-py3-none-any.whl (139 kB)\n",
      "   ---------------------------------------- 0.0/139.3 kB ? eta -:--:--\n",
      "   -------- ------------------------------ 30.7/139.3 kB 640.0 kB/s eta 0:00:01\n",
      "   ---------------------------------------- 139.3/139.3 kB 2.0 MB/s eta 0:00:00\n",
      "Downloading botocore-1.34.115-py3-none-any.whl (12.3 MB)\n",
      "   ---------------------------------------- 0.0/12.3 MB ? eta -:--:--\n",
      "   ---------------------------------------- 0.1/12.3 MB 3.3 MB/s eta 0:00:04\n",
      "    --------------------------------------- 0.2/12.3 MB 3.5 MB/s eta 0:00:04\n",
      "   - -------------------------------------- 0.3/12.3 MB 3.0 MB/s eta 0:00:04\n",
      "   - -------------------------------------- 0.5/12.3 MB 3.1 MB/s eta 0:00:04\n",
      "   - -------------------------------------- 0.6/12.3 MB 3.2 MB/s eta 0:00:04\n",
      "   -- ------------------------------------- 0.7/12.3 MB 3.0 MB/s eta 0:00:04\n",
      "   -- ------------------------------------- 0.8/12.3 MB 3.1 MB/s eta 0:00:04\n",
      "   --- ------------------------------------ 0.9/12.3 MB 3.1 MB/s eta 0:00:04\n",
      "   --- ------------------------------------ 1.0/12.3 MB 3.0 MB/s eta 0:00:04\n",
      "   --- ------------------------------------ 1.2/12.3 MB 3.1 MB/s eta 0:00:04\n",
      "   ---- ----------------------------------- 1.3/12.3 MB 3.0 MB/s eta 0:00:04\n",
      "   ---- ----------------------------------- 1.4/12.3 MB 3.0 MB/s eta 0:00:04\n",
      "   ---- ----------------------------------- 1.5/12.3 MB 3.0 MB/s eta 0:00:04\n",
      "   ----- ---------------------------------- 1.7/12.3 MB 3.0 MB/s eta 0:00:04\n",
      "   ----- ---------------------------------- 1.8/12.3 MB 3.0 MB/s eta 0:00:04\n",
      "   ------ --------------------------------- 1.9/12.3 MB 3.0 MB/s eta 0:00:04\n",
      "   ------ --------------------------------- 2.0/12.3 MB 3.0 MB/s eta 0:00:04\n",
      "   ------ --------------------------------- 2.1/12.3 MB 3.0 MB/s eta 0:00:04\n",
      "   ------- -------------------------------- 2.3/12.3 MB 3.0 MB/s eta 0:00:04\n",
      "   ------- -------------------------------- 2.4/12.3 MB 3.0 MB/s eta 0:00:04\n",
      "   -------- ------------------------------- 2.5/12.3 MB 3.0 MB/s eta 0:00:04\n",
      "   -------- ------------------------------- 2.6/12.3 MB 3.0 MB/s eta 0:00:04\n",
      "   --------- ------------------------------ 2.8/12.3 MB 3.0 MB/s eta 0:00:04\n",
      "   --------- ------------------------------ 2.9/12.3 MB 3.0 MB/s eta 0:00:04\n",
      "   --------- ------------------------------ 3.0/12.3 MB 3.0 MB/s eta 0:00:04\n",
      "   ---------- ----------------------------- 3.1/12.3 MB 3.0 MB/s eta 0:00:04\n",
      "   ---------- ----------------------------- 3.3/12.3 MB 3.0 MB/s eta 0:00:03\n",
      "   ----------- ---------------------------- 3.4/12.3 MB 3.0 MB/s eta 0:00:03\n",
      "   ----------- ---------------------------- 3.5/12.3 MB 3.0 MB/s eta 0:00:03\n",
      "   ----------- ---------------------------- 3.7/12.3 MB 3.0 MB/s eta 0:00:03\n",
      "   ------------ --------------------------- 3.8/12.3 MB 3.0 MB/s eta 0:00:03\n",
      "   ------------ --------------------------- 3.9/12.3 MB 3.0 MB/s eta 0:00:03\n",
      "   ------------- -------------------------- 4.0/12.3 MB 3.0 MB/s eta 0:00:03\n",
      "   ------------- -------------------------- 4.1/12.3 MB 3.0 MB/s eta 0:00:03\n",
      "   ------------- -------------------------- 4.2/12.3 MB 3.0 MB/s eta 0:00:03\n",
      "   -------------- ------------------------- 4.4/12.3 MB 3.0 MB/s eta 0:00:03\n",
      "   -------------- ------------------------- 4.5/12.3 MB 3.0 MB/s eta 0:00:03\n",
      "   --------------- ------------------------ 4.6/12.3 MB 3.0 MB/s eta 0:00:03\n",
      "   --------------- ------------------------ 4.8/12.3 MB 3.0 MB/s eta 0:00:03\n",
      "   ---------------- ----------------------- 4.9/12.3 MB 3.0 MB/s eta 0:00:03\n",
      "   ---------------- ----------------------- 5.0/12.3 MB 3.0 MB/s eta 0:00:03\n",
      "   ---------------- ----------------------- 5.2/12.3 MB 3.0 MB/s eta 0:00:03\n",
      "   ----------------- ---------------------- 5.3/12.3 MB 3.0 MB/s eta 0:00:03\n",
      "   ----------------- ---------------------- 5.4/12.3 MB 3.0 MB/s eta 0:00:03\n",
      "   ----------------- ---------------------- 5.5/12.3 MB 3.0 MB/s eta 0:00:03\n",
      "   ------------------ --------------------- 5.7/12.3 MB 3.0 MB/s eta 0:00:03\n",
      "   ------------------ --------------------- 5.8/12.3 MB 3.0 MB/s eta 0:00:03\n",
      "   ------------------- -------------------- 5.9/12.3 MB 3.0 MB/s eta 0:00:03\n",
      "   ------------------- -------------------- 6.0/12.3 MB 3.0 MB/s eta 0:00:03\n",
      "   ------------------- -------------------- 6.1/12.3 MB 3.0 MB/s eta 0:00:03\n",
      "   -------------------- ------------------- 6.3/12.3 MB 3.0 MB/s eta 0:00:03\n",
      "   -------------------- ------------------- 6.4/12.3 MB 3.0 MB/s eta 0:00:02\n",
      "   --------------------- ------------------ 6.5/12.3 MB 3.0 MB/s eta 0:00:02\n",
      "   --------------------- ------------------ 6.6/12.3 MB 3.0 MB/s eta 0:00:02\n",
      "   --------------------- ------------------ 6.7/12.3 MB 3.0 MB/s eta 0:00:02\n",
      "   ---------------------- ----------------- 6.9/12.3 MB 3.0 MB/s eta 0:00:02\n",
      "   ---------------------- ----------------- 7.0/12.3 MB 3.0 MB/s eta 0:00:02\n",
      "   ----------------------- ---------------- 7.1/12.3 MB 3.0 MB/s eta 0:00:02\n",
      "   ----------------------- ---------------- 7.2/12.3 MB 3.0 MB/s eta 0:00:02\n",
      "   ----------------------- ---------------- 7.4/12.3 MB 3.0 MB/s eta 0:00:02\n",
      "   ------------------------ --------------- 7.5/12.3 MB 3.0 MB/s eta 0:00:02\n",
      "   ------------------------ --------------- 7.6/12.3 MB 3.0 MB/s eta 0:00:02\n",
      "   ------------------------- -------------- 7.7/12.3 MB 3.0 MB/s eta 0:00:02\n",
      "   ------------------------- -------------- 7.8/12.3 MB 3.0 MB/s eta 0:00:02\n",
      "   ------------------------- -------------- 8.0/12.3 MB 3.0 MB/s eta 0:00:02\n",
      "   -------------------------- ------------- 8.1/12.3 MB 3.0 MB/s eta 0:00:02\n",
      "   -------------------------- ------------- 8.2/12.3 MB 3.0 MB/s eta 0:00:02\n",
      "   --------------------------- ------------ 8.3/12.3 MB 3.0 MB/s eta 0:00:02\n",
      "   --------------------------- ------------ 8.4/12.3 MB 3.0 MB/s eta 0:00:02\n",
      "   --------------------------- ------------ 8.6/12.3 MB 3.0 MB/s eta 0:00:02\n",
      "   ---------------------------- ----------- 8.7/12.3 MB 3.0 MB/s eta 0:00:02\n",
      "   ---------------------------- ----------- 8.8/12.3 MB 3.0 MB/s eta 0:00:02\n",
      "   ----------------------------- ---------- 8.9/12.3 MB 3.0 MB/s eta 0:00:02\n",
      "   ----------------------------- ---------- 9.1/12.3 MB 3.0 MB/s eta 0:00:02\n",
      "   ----------------------------- ---------- 9.2/12.3 MB 3.0 MB/s eta 0:00:02\n",
      "   ------------------------------ --------- 9.3/12.3 MB 3.0 MB/s eta 0:00:01\n",
      "   ------------------------------ --------- 9.5/12.3 MB 3.0 MB/s eta 0:00:01\n",
      "   ------------------------------- -------- 9.6/12.3 MB 3.0 MB/s eta 0:00:01\n",
      "   ------------------------------- -------- 9.7/12.3 MB 3.0 MB/s eta 0:00:01\n",
      "   ------------------------------- -------- 9.8/12.3 MB 3.0 MB/s eta 0:00:01\n",
      "   -------------------------------- ------- 9.9/12.3 MB 3.0 MB/s eta 0:00:01\n",
      "   -------------------------------- ------- 10.1/12.3 MB 3.0 MB/s eta 0:00:01\n",
      "   --------------------------------- ------ 10.2/12.3 MB 3.0 MB/s eta 0:00:01\n",
      "   --------------------------------- ------ 10.3/12.3 MB 3.0 MB/s eta 0:00:01\n",
      "   --------------------------------- ------ 10.4/12.3 MB 3.0 MB/s eta 0:00:01\n",
      "   ---------------------------------- ----- 10.5/12.3 MB 3.0 MB/s eta 0:00:01\n",
      "   ---------------------------------- ----- 10.7/12.3 MB 3.0 MB/s eta 0:00:01\n",
      "   ----------------------------------- ---- 10.8/12.3 MB 3.0 MB/s eta 0:00:01\n",
      "   ----------------------------------- ---- 10.9/12.3 MB 3.0 MB/s eta 0:00:01\n",
      "   ------------------------------------ --- 11.1/12.3 MB 3.0 MB/s eta 0:00:01\n",
      "   ------------------------------------ --- 11.2/12.3 MB 3.0 MB/s eta 0:00:01\n",
      "   ------------------------------------ --- 11.3/12.3 MB 3.0 MB/s eta 0:00:01\n",
      "   ------------------------------------- -- 11.5/12.3 MB 3.0 MB/s eta 0:00:01\n",
      "   ------------------------------------- -- 11.6/12.3 MB 3.0 MB/s eta 0:00:01\n",
      "   -------------------------------------- - 11.7/12.3 MB 3.0 MB/s eta 0:00:01\n",
      "   -------------------------------------- - 11.8/12.3 MB 3.0 MB/s eta 0:00:01\n",
      "   ---------------------------------------  12.0/12.3 MB 3.0 MB/s eta 0:00:01\n",
      "   ---------------------------------------  12.1/12.3 MB 3.0 MB/s eta 0:00:01\n",
      "   ---------------------------------------  12.2/12.3 MB 3.0 MB/s eta 0:00:01\n",
      "   ---------------------------------------  12.3/12.3 MB 3.0 MB/s eta 0:00:01\n",
      "   ---------------------------------------- 12.3/12.3 MB 2.9 MB/s eta 0:00:00\n",
      "Downloading jmespath-1.0.1-py3-none-any.whl (20 kB)\n",
      "Downloading s3transfer-0.10.1-py3-none-any.whl (82 kB)\n",
      "   ---------------------------------------- 0.0/82.2 kB ? eta -:--:--\n",
      "   ---------------------------------------- 82.2/82.2 kB 4.8 MB/s eta 0:00:00\n",
      "Installing collected packages: jmespath, botocore, s3transfer, boto3\n",
      "Successfully installed boto3-1.34.115 botocore-1.34.115 jmespath-1.0.1 s3transfer-0.10.1\n"
     ]
    },
    {
     "name": "stderr",
     "output_type": "stream",
     "text": [
      "\n",
      "[notice] A new release of pip is available: 23.2.1 -> 24.0\n",
      "[notice] To update, run: python.exe -m pip install --upgrade pip\n"
     ]
    }
   ],
   "source": [
    "# !pip install boto3"
   ]
  },
  {
   "cell_type": "code",
   "execution_count": 1,
   "id": "c7c78f5d-3613-47fe-a38a-27964e3cf852",
   "metadata": {},
   "outputs": [],
   "source": [
    "import boto3"
   ]
  },
  {
   "cell_type": "code",
   "execution_count": 2,
   "id": "112aca80-f926-4f83-8904-3c815d1e83f8",
   "metadata": {},
   "outputs": [],
   "source": [
    "import psycopg2\n",
    "import pandas as pd\n",
    "import json"
   ]
  },
  {
   "cell_type": "code",
   "execution_count": 31,
   "id": "0b7a6008-ec0c-4ad6-9df7-e0a83efa2a35",
   "metadata": {},
   "outputs": [],
   "source": [
    "KEY = 'Enter your key here'\n",
    "SECRET = 'Enter your secret key here'\n",
    "\n",
    "DWH_DB = 'dev'\n",
    "DWH_DB_USER = 'awsuser'\n",
    "DWH_DB_PASSWORD = 'Enter your password here'\n",
    "DWH_PORT = 5439\n",
    "DWH_IAM_ROLE_NAME = 'redshift-s3-access'\n",
    "\n",
    "REDSHIFT_HOST_ENDPOINT = 'Enter your Redshift endpoint here'\n",
    "\n",
    "REGION_NAME = 'eu-west-2'"
   ]
  },
  {
   "cell_type": "code",
   "execution_count": 6,
   "id": "00745ba9-91d5-448e-817f-8035d032e0bd",
   "metadata": {},
   "outputs": [],
   "source": [
    "s3 = boto3.resource('s3',\n",
    "                   region_name=REGION_NAME,\n",
    "                   aws_access_key_id=KEY,\n",
    "                   aws_secret_access_key=SECRET)"
   ]
  },
  {
   "cell_type": "code",
   "execution_count": 15,
   "id": "dde0946f-25d3-4960-90dd-a3d9ac24095e",
   "metadata": {},
   "outputs": [],
   "source": [
    "iam = boto3.client('iam',\n",
    "                      region_name=REGION_NAME,\n",
    "                      aws_access_key_id=KEY,\n",
    "                      aws_secret_access_key=SECRET)"
   ]
  },
  {
   "cell_type": "code",
   "execution_count": 20,
   "id": "dc909f25-7ac1-4d62-846a-c1b6f06051b9",
   "metadata": {},
   "outputs": [],
   "source": [
    "redshift = boto3.client('redshift-serverless',\n",
    "                        region_name=REGION_NAME,\n",
    "                        aws_access_key_id=KEY,\n",
    "                        aws_secret_access_key=SECRET)"
   ]
  },
  {
   "cell_type": "code",
   "execution_count": 7,
   "id": "82551b0d-524e-4209-b974-fa4dbea6a42b",
   "metadata": {},
   "outputs": [],
   "source": [
    "bucket = s3.Bucket(\"Enter your bucket name here\")"
   ]
  },
  {
   "cell_type": "code",
   "execution_count": 13,
   "id": "0607ff0a-05e2-4870-b7a8-e8125cd2a4fa",
   "metadata": {},
   "outputs": [
    {
     "data": {
      "text/plain": [
       "['allevents_pipe.txt',\n",
       " 'allusers_pipe.txt',\n",
       " 'category_pipe.txt',\n",
       " 'date2008_pipe.txt',\n",
       " 'listings_pipe.txt',\n",
       " 'sales_tab.txt',\n",
       " 'venue_pipe.txt']"
      ]
     },
     "execution_count": 13,
     "metadata": {},
     "output_type": "execute_result"
    }
   ],
   "source": [
    "data_files = [fname.key for fname in bucket.objects.filter()]\n",
    "data_files"
   ]
  },
  {
   "cell_type": "code",
   "execution_count": 18,
   "id": "f30b9b86-d430-4a25-a3c8-d8a9fc4264e6",
   "metadata": {},
   "outputs": [
    {
     "data": {
      "text/plain": [
       "'arn:aws:iam::905418467982:role/redshift-s3-access'"
      ]
     },
     "execution_count": 18,
     "metadata": {},
     "output_type": "execute_result"
    }
   ],
   "source": [
    "role_arn = iam.get_role(RoleName=DWH_IAM_ROLE_NAME)['Role']['Arn']\n",
    "role_arn"
   ]
  },
  {
   "cell_type": "code",
   "execution_count": 33,
   "id": "f03281bb-3304-41d3-8298-aab96d1033a8",
   "metadata": {},
   "outputs": [],
   "source": [
    "try:\n",
    "    conn = psycopg2.connect(host=REDSHIFT_HOST_ENDPOINT,\n",
    "                           dbname=DWH_DB,\n",
    "                           user=DWH_DB_USER,\n",
    "                           password=DWH_DB_PASSWORD,\n",
    "                           port=DWH_PORT)\n",
    "except Exception as e:\n",
    "    print(e)\n",
    "\n",
    "conn.set_session(autocommit=True)"
   ]
  },
  {
   "cell_type": "code",
   "execution_count": 34,
   "id": "326f4fd8-8421-4006-b1ea-2d23b1142151",
   "metadata": {},
   "outputs": [],
   "source": [
    "try:\n",
    "    cur = conn.cursor()\n",
    "except Exception as e:\n",
    "    print(e)"
   ]
  },
  {
   "cell_type": "code",
   "execution_count": 35,
   "id": "bba79c5c-8cb2-47e1-9835-7e7ab97dfaa8",
   "metadata": {},
   "outputs": [],
   "source": [
    "cur.execute(\"\"\"\n",
    "    CREATE TABLE students (\n",
    "    id INT,\n",
    "    name VARCHAR,\n",
    "    age INT\n",
    "    );\n",
    "\"\"\")"
   ]
  },
  {
   "cell_type": "code",
   "execution_count": 36,
   "id": "6156f523-0807-44cf-a8b9-4297505859dc",
   "metadata": {},
   "outputs": [],
   "source": [
    "cur.execute(\"INSERT INTO students VALUES (1, 'Ganesh', 25);\")\n",
    "cur.execute(\"INSERT INTO students VALUES (2, 'Harri', 26);\")"
   ]
  },
  {
   "cell_type": "code",
   "execution_count": 37,
   "id": "a222a507-c2de-4261-a2fd-884792eca680",
   "metadata": {},
   "outputs": [],
   "source": [
    "cur.execute(\"SELECT * FROM students;\")"
   ]
  },
  {
   "cell_type": "code",
   "execution_count": 38,
   "id": "c5b45e8b-9f65-484f-a28b-c4ac16877455",
   "metadata": {},
   "outputs": [
    {
     "name": "stdout",
     "output_type": "stream",
     "text": [
      "(1, 'Ganesh', 25)\n",
      "(2, 'Harri', 26)\n"
     ]
    }
   ],
   "source": [
    "rows = cur.fetchall()\n",
    "for i in rows:\n",
    "    print(i)"
   ]
  },
  {
   "cell_type": "code",
   "execution_count": 39,
   "id": "5dcb90f4-45d9-4a9f-bc70-4fb79d5af111",
   "metadata": {},
   "outputs": [],
   "source": [
    "conn.close()"
   ]
  }
 ],
 "metadata": {
  "kernelspec": {
   "display_name": "Python 3 (ipykernel)",
   "language": "python",
   "name": "python3"
  },
  "language_info": {
   "codemirror_mode": {
    "name": "ipython",
    "version": 3
   },
   "file_extension": ".py",
   "mimetype": "text/x-python",
   "name": "python",
   "nbconvert_exporter": "python",
   "pygments_lexer": "ipython3",
   "version": "3.12.1"
  }
 },
 "nbformat": 4,
 "nbformat_minor": 5
}
